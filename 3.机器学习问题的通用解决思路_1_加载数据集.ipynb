{
 "cells": [
  {
   "cell_type": "markdown",
   "metadata": {},
   "source": [
    "## 今天我们来录个加载大型数据集的视频"
   ]
  },
  {
   "cell_type": "code",
   "execution_count": 1,
   "metadata": {},
   "outputs": [],
   "source": [
    "import pandas as pd\n",
    "import os"
   ]
  },
  {
   "cell_type": "code",
   "execution_count": 3,
   "metadata": {},
   "outputs": [
    {
     "name": "stdout",
     "output_type": "stream",
     "text": [
      "csv文件大小: 572.79 MB\n"
     ]
    }
   ],
   "source": [
    "print ('csv文件大小: %5.2f'%(os.path.getsize(\"d://action.csv\")/1024/1024),'MB')"
   ]
  },
  {
   "cell_type": "code",
   "execution_count": 5,
   "metadata": {},
   "outputs": [],
   "source": [
    "def read_csv(filename,chunksize):\n",
    "    data = pd.read_csv(filename,sep=',',engine='python',iterator=True)\n",
    "    loop = True\n",
    "    chunksize = chunksize\n",
    "    chunks = []\n",
    "    while loop:\n",
    "        try:\n",
    "            chunk = data.get_chunk(chunksize)\n",
    "            chunks.append(chunk)\n",
    "        except StopIteration:\n",
    "            loop = False\n",
    "            print (\"Iteration is Stopped\")\n",
    "    print (\"Start Concat\")\n",
    "    return pd.concat(chunks,ignore_index=True)"
   ]
  },
  {
   "cell_type": "code",
   "execution_count": 6,
   "metadata": {},
   "outputs": [
    {
     "name": "stdout",
     "output_type": "stream",
     "text": [
      "Iteration is Stopped\n",
      "Start Concat\n"
     ]
    }
   ],
   "source": [
    "df = read_csv(\"d://action.csv\",chunksize=1024*1024*1024)"
   ]
  },
  {
   "cell_type": "code",
   "execution_count": 7,
   "metadata": {},
   "outputs": [
    {
     "data": {
      "text/html": [
       "<div>\n",
       "<style scoped>\n",
       "    .dataframe tbody tr th:only-of-type {\n",
       "        vertical-align: middle;\n",
       "    }\n",
       "\n",
       "    .dataframe tbody tr th {\n",
       "        vertical-align: top;\n",
       "    }\n",
       "\n",
       "    .dataframe thead th {\n",
       "        text-align: right;\n",
       "    }\n",
       "</style>\n",
       "<table border=\"1\" class=\"dataframe\">\n",
       "  <thead>\n",
       "    <tr style=\"text-align: right;\">\n",
       "      <th></th>\n",
       "      <th>user_id</th>\n",
       "      <th>sku_id</th>\n",
       "      <th>time</th>\n",
       "      <th>model_id</th>\n",
       "      <th>type</th>\n",
       "      <th>cate</th>\n",
       "      <th>brand</th>\n",
       "    </tr>\n",
       "  </thead>\n",
       "  <tbody>\n",
       "    <tr>\n",
       "      <th>0</th>\n",
       "      <td>287842.0</td>\n",
       "      <td>75018</td>\n",
       "      <td>2016-03-31 23:59:01</td>\n",
       "      <td>14.0</td>\n",
       "      <td>6</td>\n",
       "      <td>9</td>\n",
       "      <td>630</td>\n",
       "    </tr>\n",
       "    <tr>\n",
       "      <th>1</th>\n",
       "      <td>208266.0</td>\n",
       "      <td>31662</td>\n",
       "      <td>2016-03-31 23:59:04</td>\n",
       "      <td>NaN</td>\n",
       "      <td>1</td>\n",
       "      <td>8</td>\n",
       "      <td>545</td>\n",
       "    </tr>\n",
       "    <tr>\n",
       "      <th>2</th>\n",
       "      <td>209390.0</td>\n",
       "      <td>118799</td>\n",
       "      <td>2016-03-31 23:59:05</td>\n",
       "      <td>111.0</td>\n",
       "      <td>6</td>\n",
       "      <td>8</td>\n",
       "      <td>244</td>\n",
       "    </tr>\n",
       "    <tr>\n",
       "      <th>3</th>\n",
       "      <td>237311.0</td>\n",
       "      <td>5825</td>\n",
       "      <td>2016-03-31 23:59:05</td>\n",
       "      <td>NaN</td>\n",
       "      <td>1</td>\n",
       "      <td>8</td>\n",
       "      <td>885</td>\n",
       "    </tr>\n",
       "    <tr>\n",
       "      <th>4</th>\n",
       "      <td>257651.0</td>\n",
       "      <td>128104</td>\n",
       "      <td>2016-03-31 23:59:05</td>\n",
       "      <td>NaN</td>\n",
       "      <td>1</td>\n",
       "      <td>4</td>\n",
       "      <td>300</td>\n",
       "    </tr>\n",
       "  </tbody>\n",
       "</table>\n",
       "</div>"
      ],
      "text/plain": [
       "    user_id  sku_id                 time  model_id  type  cate  brand\n",
       "0  287842.0   75018  2016-03-31 23:59:01      14.0     6     9    630\n",
       "1  208266.0   31662  2016-03-31 23:59:04       NaN     1     8    545\n",
       "2  209390.0  118799  2016-03-31 23:59:05     111.0     6     8    244\n",
       "3  237311.0    5825  2016-03-31 23:59:05       NaN     1     8    885\n",
       "4  257651.0  128104  2016-03-31 23:59:05       NaN     1     4    300"
      ]
     },
     "execution_count": 7,
     "metadata": {},
     "output_type": "execute_result"
    }
   ],
   "source": [
    "df.head()"
   ]
  },
  {
   "cell_type": "code",
   "execution_count": 8,
   "metadata": {},
   "outputs": [
    {
     "data": {
      "text/plain": [
       "(13199934, 7)"
      ]
     },
     "execution_count": 8,
     "metadata": {},
     "output_type": "execute_result"
    }
   ],
   "source": [
    "df.shape"
   ]
  },
  {
   "cell_type": "markdown",
   "metadata": {},
   "source": [
    "# 一千三百万行记录，2分钟加载完毕，不会出现内存溢出的情况"
   ]
  },
  {
   "cell_type": "code",
   "execution_count": null,
   "metadata": {},
   "outputs": [],
   "source": []
  }
 ],
 "metadata": {
  "kernelspec": {
   "display_name": "Python 3",
   "language": "python",
   "name": "python3"
  },
  "language_info": {
   "codemirror_mode": {
    "name": "ipython",
    "version": 3
   },
   "file_extension": ".py",
   "mimetype": "text/x-python",
   "name": "python",
   "nbconvert_exporter": "python",
   "pygments_lexer": "ipython3",
   "version": "3.7.6"
  }
 },
 "nbformat": 4,
 "nbformat_minor": 2
}
